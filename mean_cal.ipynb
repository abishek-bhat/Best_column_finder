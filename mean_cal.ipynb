{
 "cells": [
  {
   "cell_type": "code",
   "execution_count": null,
   "id": "ab5e32e9",
   "metadata": {},
   "outputs": [],
   "source": [
    "file=input(\"Enter the path of the file and it should be in csv:\")\n",
    "import pandas as pd\n",
    "import statistics\n",
    "data=pd.read_csv(file)\n",
    "print(\"\\n\",data.columns,\"\\n\")\n",
    "times=int(input(\"Enter the total number of column:\"))\n",
    "column_name=[]\n",
    "for i in range (0,times):\n",
    "    column_name.append(input(\"Enter the column name:\"))\n",
    "mean1=[]\n",
    "mode1=[]\n",
    "median1=[]\n",
    "for i in range (0,times):\n",
    "    avg=statistics.mean(data[column_name[i]])\n",
    "    mean1.append(avg)\n",
    "for i in range (0,times):\n",
    "    avg1=statistics.mode(data[column_name[i]])\n",
    "    mode1.append(avg1) \n",
    "for i in range (0,times):\n",
    "    avg2=statistics.median(data[column_name[i]])\n",
    "    median1.append(avg2)\n",
    "for i in range(0,times):\n",
    "    for j in range(1,times):\n",
    "        if((mean1[i]>mean1[j]) and (median1[i]>median1[j])):\n",
    "            print(\"The Value of \",column_name[i],\" column is better than \",column_name[j],\" column!!!!!\")\n",
    "        else:\n",
    "            print(\"The value of \",column_name[j],\" column is better than \",column_name[i],\" column!!!!!\")\n",
    "for i in range (0,times):\n",
    "    print(mode1[i],\"is the mode of column\",column_name[i],\" the list!!\")"
   ]
  },
  {
   "cell_type": "code",
   "execution_count": null,
   "id": "3f2aed63",
   "metadata": {},
   "outputs": [],
   "source": []
  }
 ],
 "metadata": {
  "kernelspec": {
   "display_name": "Python 3 (ipykernel)",
   "language": "python",
   "name": "python3"
  },
  "language_info": {
   "codemirror_mode": {
    "name": "ipython",
    "version": 3
   },
   "file_extension": ".py",
   "mimetype": "text/x-python",
   "name": "python",
   "nbconvert_exporter": "python",
   "pygments_lexer": "ipython3",
   "version": "3.9.7"
  }
 },
 "nbformat": 4,
 "nbformat_minor": 5
}
